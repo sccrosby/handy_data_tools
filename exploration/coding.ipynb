{
 "cells": [
  {
   "cell_type": "code",
   "execution_count": 4,
   "metadata": {},
   "outputs": [],
   "source": [
    "# Create list of zeros\n",
    "\n",
    "import numpy as np"
   ]
  },
  {
   "cell_type": "code",
   "execution_count": 5,
   "metadata": {},
   "outputs": [],
   "source": [
    "N = 100000"
   ]
  },
  {
   "cell_type": "code",
   "execution_count": 6,
   "metadata": {},
   "outputs": [
    {
     "name": "stdout",
     "output_type": "stream",
     "text": [
      "6.63 ms ± 209 µs per loop (mean ± std. dev. of 7 runs, 100 loops each)\n"
     ]
    }
   ],
   "source": [
    "%%timeit\n",
    "x = np.zeros(N)\n",
    "for i in range(len(x)):\n",
    "    x[i] = i"
   ]
  },
  {
   "cell_type": "code",
   "execution_count": 7,
   "metadata": {},
   "outputs": [
    {
     "name": "stdout",
     "output_type": "stream",
     "text": [
      "3.68 ms ± 19.7 µs per loop (mean ± std. dev. of 7 runs, 100 loops each)\n"
     ]
    }
   ],
   "source": [
    "%%timeit\n",
    "y = [0 for i in range(N)]\n",
    "for i in range(len(y)):\n",
    "    y[i] = i"
   ]
  },
  {
   "cell_type": "code",
   "execution_count": 8,
   "metadata": {},
   "outputs": [
    {
     "name": "stdout",
     "output_type": "stream",
     "text": [
      "2.28 ms ± 65.1 µs per loop (mean ± std. dev. of 7 runs, 100 loops each)\n"
     ]
    }
   ],
   "source": [
    "%%timeit\n",
    "y = []\n",
    "for i in range(N):\n",
    "    y.append(i)"
   ]
  },
  {
   "cell_type": "code",
   "execution_count": 9,
   "metadata": {},
   "outputs": [],
   "source": [
    "x = range(N)\n",
    "x_set = set(x)"
   ]
  },
  {
   "cell_type": "code",
   "execution_count": 10,
   "metadata": {},
   "outputs": [
    {
     "name": "stdout",
     "output_type": "stream",
     "text": [
      "55.2 ns ± 0.456 ns per loop (mean ± std. dev. of 7 runs, 10,000,000 loops each)\n"
     ]
    }
   ],
   "source": [
    "%%timeit\n",
    "999 in x"
   ]
  },
  {
   "cell_type": "code",
   "execution_count": 11,
   "metadata": {},
   "outputs": [
    {
     "name": "stdout",
     "output_type": "stream",
     "text": [
      "19.4 ns ± 0.139 ns per loop (mean ± std. dev. of 7 runs, 100,000,000 loops each)\n"
     ]
    }
   ],
   "source": [
    "%%timeit\n",
    "999 in x_set"
   ]
  },
  {
   "cell_type": "code",
   "execution_count": 12,
   "metadata": {},
   "outputs": [
    {
     "data": {
      "text/plain": [
       "26"
      ]
     },
     "execution_count": 12,
     "metadata": {},
     "output_type": "execute_result"
    }
   ],
   "source": [
    "F = lambda x: x * x + 1\n",
    "F(5)"
   ]
  },
  {
   "cell_type": "code",
   "execution_count": 13,
   "metadata": {},
   "outputs": [
    {
     "data": {
      "text/plain": [
       "27"
      ]
     },
     "execution_count": 13,
     "metadata": {},
     "output_type": "execute_result"
    }
   ],
   "source": [
    "F = lambda x, y: x * x + y\n",
    "F(5, 2)"
   ]
  },
  {
   "cell_type": "code",
   "execution_count": 14,
   "metadata": {},
   "outputs": [
    {
     "data": {
      "text/plain": [
       "[2, 5, 10, 17, 26]"
      ]
     },
     "execution_count": 14,
     "metadata": {},
     "output_type": "execute_result"
    }
   ],
   "source": [
    "F = lambda x: x * x + 1\n",
    "x = [1, 2, 3, 4, 5]\n",
    "\n",
    "y = map(F, x)\n",
    "list(y)"
   ]
  },
  {
   "cell_type": "code",
   "execution_count": null,
   "metadata": {},
   "outputs": [],
   "source": []
  },
  {
   "cell_type": "code",
   "execution_count": 15,
   "metadata": {},
   "outputs": [
    {
     "name": "stdout",
     "output_type": "stream",
     "text": [
      "shape: (3, 3)\n",
      "┌─────────┬─────┬─────────────┐\n",
      "│ name    ┆ age ┆ city        │\n",
      "│ ---     ┆ --- ┆ ---         │\n",
      "│ str     ┆ i64 ┆ str         │\n",
      "╞═════════╪═════╪═════════════╡\n",
      "│ Alice   ┆ 25  ┆ New York    │\n",
      "│ Bob     ┆ 30  ┆ Los Angeles │\n",
      "│ Charlie ┆ 35  ┆ Chicago     │\n",
      "└─────────┴─────┴─────────────┘\n"
     ]
    }
   ],
   "source": [
    "import polars as pl\n",
    "\n",
    "# Create a DataFrame\n",
    "df = pl.DataFrame(\n",
    "    {\n",
    "        \"name\": [\"Alice\", \"Bob\", \"Charlie\"],\n",
    "        \"age\": [25, 30, 35],\n",
    "        \"city\": [\"New York\", \"Los Angeles\", \"Chicago\"],\n",
    "    }\n",
    ")\n",
    "\n",
    "print(df)"
   ]
  },
  {
   "cell_type": "code",
   "execution_count": 16,
   "metadata": {},
   "outputs": [
    {
     "name": "stdout",
     "output_type": "stream",
     "text": [
      "shape: (3, 2)\n",
      "┌─────────┬─────────────┐\n",
      "│ name    ┆ city        │\n",
      "│ ---     ┆ ---         │\n",
      "│ str     ┆ str         │\n",
      "╞═════════╪═════════════╡\n",
      "│ Alice   ┆ New York    │\n",
      "│ Bob     ┆ Los Angeles │\n",
      "│ Charlie ┆ Chicago     │\n",
      "└─────────┴─────────────┘\n",
      "shape: (2, 3)\n",
      "┌─────────┬─────┬─────────────┐\n",
      "│ name    ┆ age ┆ city        │\n",
      "│ ---     ┆ --- ┆ ---         │\n",
      "│ str     ┆ i64 ┆ str         │\n",
      "╞═════════╪═════╪═════════════╡\n",
      "│ Bob     ┆ 30  ┆ Los Angeles │\n",
      "│ Charlie ┆ 35  ┆ Chicago     │\n",
      "└─────────┴─────┴─────────────┘\n"
     ]
    },
    {
     "ename": "AttributeError",
     "evalue": "'DataFrame' object has no attribute 'with_column'",
     "output_type": "error",
     "traceback": [
      "\u001b[0;31m---------------------------------------------------------------------------\u001b[0m",
      "\u001b[0;31mAttributeError\u001b[0m                            Traceback (most recent call last)",
      "Cell \u001b[0;32mIn[16], line 10\u001b[0m\n\u001b[1;32m      7\u001b[0m \u001b[38;5;28mprint\u001b[39m(filtered_df)\n\u001b[1;32m      9\u001b[0m \u001b[38;5;66;03m# Add a new column\u001b[39;00m\n\u001b[0;32m---> 10\u001b[0m df \u001b[38;5;241m=\u001b[39m \u001b[43mdf\u001b[49m\u001b[38;5;241;43m.\u001b[39;49m\u001b[43mwith_column\u001b[49m(pl\u001b[38;5;241m.\u001b[39mcol(\u001b[38;5;124m\"\u001b[39m\u001b[38;5;124mage\u001b[39m\u001b[38;5;124m\"\u001b[39m) \u001b[38;5;241m+\u001b[39m \u001b[38;5;241m1\u001b[39m)\n\u001b[1;32m     11\u001b[0m \u001b[38;5;28mprint\u001b[39m(df)\n\u001b[1;32m     13\u001b[0m \u001b[38;5;66;03m# Group by and aggregate\u001b[39;00m\n",
      "\u001b[0;31mAttributeError\u001b[0m: 'DataFrame' object has no attribute 'with_column'"
     ]
    }
   ],
   "source": [
    "# Select specific columns\n",
    "selected_columns = df.select([\"name\", \"city\"])\n",
    "print(selected_columns)\n",
    "\n",
    "# Filter rows based on a condition\n",
    "filtered_df = df.filter(pl.col(\"age\") > 28)\n",
    "print(filtered_df)\n",
    "\n",
    "# Add a new column\n",
    "df = df.with_column(pl.col(\"age\") + 1)\n",
    "print(df)\n",
    "\n",
    "# Group by and aggregate\n",
    "df_grouped = df.groupby(\"city\").agg([pl.col(\"age\").mean().alias(\"average_age\")])\n",
    "print(df_grouped)"
   ]
  },
  {
   "cell_type": "code",
   "execution_count": null,
   "metadata": {},
   "outputs": [
    {
     "name": "stdout",
     "output_type": "stream",
     "text": [
      "Caught an exception: This is a custom exception\n",
      "Error details: {'code': 123, 'detail': 'Sample error detail'}\n"
     ]
    }
   ],
   "source": [
    "# Define the custom exception class\n",
    "class NewException(Exception):\n",
    "    \"\"\"Custom exception class for specific error handling\"\"\"\n",
    "\n",
    "    def __init__(self, message, errors=None):\n",
    "        # Call the base class constructor with the parameters it needs\n",
    "        super().__init__(message)\n",
    "\n",
    "        # Now for your custom code...\n",
    "        self.errors = errors\n",
    "\n",
    "\n",
    "# Example of raising the custom exception\n",
    "try:\n",
    "    raise NewException(\n",
    "        \"This is a custom exception\",\n",
    "        errors={\"code\": 123, \"detail\": \"Sample error detail\"},\n",
    "    )\n",
    "except NewException as e:\n",
    "    print(f\"Caught an exception: {e}\")\n",
    "    print(f\"Error details: {e.errors}\")"
   ]
  },
  {
   "cell_type": "code",
   "execution_count": null,
   "metadata": {},
   "outputs": [],
   "source": [
    "from datetime import date\n",
    "from uuid import UUID, uuid4\n",
    "from enum import Enum\n",
    "from pydantic import BaseModel, EmailStr\n",
    "\n",
    "\n",
    "class Department(Enum):\n",
    "    HR = \"HR\"\n",
    "    SALES = \"SALES\"\n",
    "    IT = \"IT\"\n",
    "    ENGINEERING = \"ENGINEERING\"\n",
    "\n",
    "\n",
    "class Employee(BaseModel):\n",
    "    employee_id: UUID = uuid4()\n",
    "    name: str\n",
    "    email: EmailStr\n",
    "    date_of_birth: date\n",
    "    salary: float\n",
    "    department: Department\n",
    "    elected_benefits: bool\n",
    "\n",
    "    class Config:\n",
    "        json_schema_extra = {\n",
    "            \"example\": {\n",
    "                \"name\": \"John\",\n",
    "                \"email\": \"jdoe@me.com\",\n",
    "                \"date_of_birth\": \"1987-04-22\",\n",
    "                \"salary\": 100000.0,\n",
    "                \"department\": \"IT\",\n",
    "                \"elected_benefits\": True,\n",
    "            }\n",
    "        }\n",
    "\n",
    "    def return_age(self):\n",
    "        today = date.today()\n",
    "        age = today.year - self.date_of_birth.year\n",
    "        if today < date(today.year, self.date_of_birth.month, self.date_of_birth.day):\n",
    "            age -= 1\n",
    "        return age\n",
    "\n",
    "    def __repr__(self):\n",
    "        return f\"Employee(name={self.name}, email={self.email}, date_of_birth={self.date_of_birth}, salary={self.salary}, department={self.department}, elected_benefits={self.elected_benefits})\"\n",
    "\n",
    "    def __str__(self):\n",
    "        return self.__repr__()\n",
    "\n",
    "    def __hash__(self):\n",
    "        return hash(\n",
    "            (\n",
    "                self.name,\n",
    "                self.email,\n",
    "                self.date_of_birth,\n",
    "                self.salary,\n",
    "                self.department,\n",
    "                self.elected_benefits,\n",
    "            )\n",
    "        )\n",
    "\n",
    "    def __eq__(self, other):\n",
    "        return self.__dict__ == other.__dict__\n",
    "\n",
    "    def __add__(self, other):\n",
    "        return Employee(\n",
    "            name=self.name + other.name,\n",
    "            email=self.email,\n",
    "            date_of_birth=self.date_of_birth,\n",
    "            salary=self.salary + other.salary,\n",
    "            department=self.department,\n",
    "            elected_benefits=self.elected_benefits,\n",
    "        )"
   ]
  },
  {
   "cell_type": "code",
   "execution_count": null,
   "metadata": {},
   "outputs": [
    {
     "name": "stdout",
     "output_type": "stream",
     "text": [
      "False\n",
      "Employee(name=JohnJohnny, email=jdoe@me.com, date_of_birth=1987-04-22, salary=200000.0, department=Department.IT, elected_benefits=True)\n"
     ]
    }
   ],
   "source": [
    "e1 = Employee(\n",
    "    name=\"John\",\n",
    "    email=\"jdoe@me.com\",\n",
    "    date_of_birth=date(1987, 4, 22),\n",
    "    salary=100000.0,\n",
    "    department=Department.IT,\n",
    "    elected_benefits=True,\n",
    ")\n",
    "\n",
    "e2 = Employee(\n",
    "    name=\"Johnny\",\n",
    "    email=\"jdoe@me.com\",\n",
    "    date_of_birth=date(1990, 1, 1),\n",
    "    salary=100000.0,\n",
    "    department=Department.IT,\n",
    "    elected_benefits=True,\n",
    ")\n",
    "\n",
    "print(e1 == e2)\n",
    "\n",
    "print(e1 + e2)"
   ]
  },
  {
   "cell_type": "code",
   "execution_count": null,
   "metadata": {},
   "outputs": [
    {
     "data": {
      "text/plain": [
       "37"
      ]
     },
     "execution_count": 71,
     "metadata": {},
     "output_type": "execute_result"
    }
   ],
   "source": [
    "e1.return_age()"
   ]
  },
  {
   "cell_type": "code",
   "execution_count": 2,
   "metadata": {},
   "outputs": [],
   "source": [
    "import pandera as pa\n",
    "\n",
    "schema = pa.DataFrameSchema({\n",
    "    \"Year\": pa.Column(int), \n",
    "    \"India\": pa.Column(float), \n",
    "    \"United States of America\": pa.Column(float) \n",
    "})"
   ]
  },
  {
   "cell_type": "code",
   "execution_count": 5,
   "metadata": {},
   "outputs": [
    {
     "data": {
      "text/plain": [
       "datetime.datetime(2022, 1, 1, 0, 0)"
      ]
     },
     "execution_count": 5,
     "metadata": {},
     "output_type": "execute_result"
    }
   ],
   "source": [
    "from pydantic import BaseModel\n",
    "from typing import Optional\n",
    "from datetime import datetime\n",
    "\n",
    "class Weather(BaseModel):\n",
    "    datetime: datetime\n",
    "    temperature: float\n",
    "    humidity: Optional[float] = None\n",
    "    wind_speed: Optional[float] = None\n",
    "    description: Optional[str] = None\n",
    "\n",
    "sample = Weather(datetime=\"2022-01-01\", temperature=20.0, humidity=50.0, wind_speed=10.0, description=\"Sunny\")\n",
    "\n",
    "sample.datetime"
   ]
  },
  {
   "cell_type": "code",
   "execution_count": null,
   "metadata": {},
   "outputs": [],
   "source": []
  }
 ],
 "metadata": {
  "kernelspec": {
   "display_name": "misc",
   "language": "python",
   "name": "python3"
  },
  "language_info": {
   "codemirror_mode": {
    "name": "ipython",
    "version": 3
   },
   "file_extension": ".py",
   "mimetype": "text/x-python",
   "name": "python",
   "nbconvert_exporter": "python",
   "pygments_lexer": "ipython3",
   "version": "3.12.0"
  }
 },
 "nbformat": 4,
 "nbformat_minor": 2
}
