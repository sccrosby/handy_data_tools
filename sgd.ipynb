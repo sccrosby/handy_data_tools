{
 "cells": [
  {
   "cell_type": "markdown",
   "metadata": {},
   "source": [
    "# SGD\n",
    "\n",
    "SGD with online learning and class weight control"
   ]
  },
  {
   "cell_type": "code",
   "execution_count": null,
   "metadata": {},
   "outputs": [],
   "source": [
    "from sklearn.linear_model import SGDClassifier\n",
    "from sklearn.model_selection import train_test_split\n",
    "import numpy as np\n",
    "import pandas as pd\n",
    "from sklearn.linear_model import SGDClassifier\n",
    "from sklearn.preprocessing import StandardScaler"
   ]
  },
  {
   "cell_type": "code",
   "execution_count": null,
   "metadata": {},
   "outputs": [],
   "source": [
    "# Read data\n",
    "df = pd.read_csv(\"sonar.csv\", header=None)\n",
    "X = df.iloc[:,0:60]\n",
    "y = df.iloc[:,60]\n",
    "y = y.map({'R':0,'M':1})\n",
    "X_train, X_test, y_train, y_test = train_test_split(X, y, test_size=0.2, random_state=42)"
   ]
  },
  {
   "cell_type": "code",
   "execution_count": null,
   "metadata": {},
   "outputs": [],
   "source": [
    "# Scale data\n",
    "scaler = StandardScaler()\n",
    "X_train_scaled = scaler.fit_transform(X_train)\n",
    "X_test_scaled = scaler.transform(X_test)"
   ]
  },
  {
   "cell_type": "code",
   "execution_count": null,
   "metadata": {},
   "outputs": [],
   "source": [
    "# Initialize classifier\n",
    "clf = SGDClassifier(max_iter=1000, tol=1e-3, warm_start=True)"
   ]
  },
  {
   "cell_type": "code",
   "execution_count": null,
   "metadata": {},
   "outputs": [],
   "source": [
    "num_epochs = 10\n",
    "for epoch in range(num_epochs):\n",
    "    # Grab a random batch (this could be new data...)\n",
    "    X_train_batch, _, y_train_batch, _ = train_test_split(X_train, y_train, test_size=0.9, random_state=epoch)\n",
    "\n",
    "    # Set random class weights (this could be set intelligently)\n",
    "    clf.set_params(class_weight={0: np.random.uniform(0, 1), 1: np.random.uniform(0, 1)}) \n",
    "\n",
    "    # Online training step\n",
    "    clf.partial_fit(X_train_batch, y_train_batch, classes=[0, 1])\n",
    "\n",
    "    # Report accuracy\n",
    "    print(f\"Epoch {epoch+1} accuracy: {clf.score(X_test, y_test)}\")"
   ]
  }
 ],
 "metadata": {
  "kernelspec": {
   "display_name": "llm",
   "language": "python",
   "name": "python3"
  },
  "language_info": {
   "codemirror_mode": {
    "name": "ipython",
    "version": 3
   },
   "file_extension": ".py",
   "mimetype": "text/x-python",
   "name": "python",
   "nbconvert_exporter": "python",
   "pygments_lexer": "ipython3",
   "version": "3.10.13"
  }
 },
 "nbformat": 4,
 "nbformat_minor": 2
}
